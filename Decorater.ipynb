{
 "cells": [
  {
   "cell_type": "code",
   "execution_count": 87,
   "metadata": {},
   "outputs": [
    {
     "name": "stdout",
     "output_type": "stream",
     "text": [
      "running test\n",
      "hi\n",
      "elapsed 0.001995563507080078 seconds\n"
     ]
    }
   ],
   "source": [
    "import time\n",
    "def print_func(func):\n",
    "    def inner():\n",
    "        print('running',func.__name__)\n",
    "        func()\n",
    "    return inner\n",
    "def run_time(func):\n",
    "    def inner():\n",
    "        start=time.time()\n",
    "        func()\n",
    "        end=time.time()\n",
    "        print('elapsed',end-start,'seconds')\n",
    "        \n",
    "    return inner\n",
    "\n",
    "@run_time\n",
    "@print_func\n",
    "def test():\n",
    "    print('hi')\n",
    "\n",
    "def test2():\n",
    "    for i in range(100000):\n",
    "        i=i+1\n",
    "\n",
    "test()\n",
    "#test2=run_time(test2)\n",
    "#test2()        \n",
    "\n",
    "\n",
    "\n",
    "\n",
    "          "
   ]
  },
  {
   "cell_type": "code",
   "execution_count": 133,
   "metadata": {},
   "outputs": [
    {
     "data": {
      "text/plain": [
       "5.0"
      ]
     },
     "execution_count": 133,
     "metadata": {},
     "output_type": "execute_result"
    }
   ],
   "source": [
    "def modify_divide(func):\n",
    "    def inner(a,b):\n",
    "        try:return a/b \n",
    "        except ZeroDivisionError:\n",
    "            return 0\n",
    "    return inner\n",
    "\n",
    "@modify_divide\n",
    "def divide(n,d):\n",
    "    return n/d\n",
    "divide(5,1)"
   ]
  },
  {
   "cell_type": "code",
   "execution_count": 127,
   "metadata": {},
   "outputs": [
    {
     "data": {
      "text/plain": [
       "0"
      ]
     },
     "execution_count": 127,
     "metadata": {},
     "output_type": "execute_result"
    }
   ],
   "source": [
    "def check_divide(func):\n",
    "    def inner(a, b):\n",
    "        if b == 0:\n",
    "            return 0\n",
    "        return func(a, b)\n",
    "    return inner\n",
    "@check_divide\n",
    "def divide(n,d):\n",
    "    return n /d\n",
    "divide(5,0)"
   ]
  },
  {
   "cell_type": "code",
   "execution_count": 119,
   "metadata": {},
   "outputs": [
    {
     "data": {
      "text/plain": [
       "0"
      ]
     },
     "execution_count": 119,
     "metadata": {},
     "output_type": "execute_result"
    }
   ],
   "source": []
  },
  {
   "cell_type": "code",
   "execution_count": null,
   "metadata": {},
   "outputs": [],
   "source": []
  }
 ],
 "metadata": {
  "kernelspec": {
   "display_name": "Python 3",
   "language": "python",
   "name": "python3"
  },
  "language_info": {
   "codemirror_mode": {
    "name": "ipython",
    "version": 3
   },
   "file_extension": ".py",
   "mimetype": "text/x-python",
   "name": "python",
   "nbconvert_exporter": "python",
   "pygments_lexer": "ipython3",
   "version": "3.8.5"
  }
 },
 "nbformat": 4,
 "nbformat_minor": 4
}
